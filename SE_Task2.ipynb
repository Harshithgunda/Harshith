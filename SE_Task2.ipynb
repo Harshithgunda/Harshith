{
  "nbformat": 4,
  "nbformat_minor": 0,
  "metadata": {
    "colab": {
      "provenance": [],
      "authorship_tag": "ABX9TyMXg4Hl/ZJNUQ1f5X1yVh9F",
      "include_colab_link": true
    },
    "kernelspec": {
      "name": "python3",
      "display_name": "Python 3"
    },
    "language_info": {
      "name": "python"
    }
  },
  "cells": [
    {
      "cell_type": "markdown",
      "metadata": {
        "id": "view-in-github",
        "colab_type": "text"
      },
      "source": [
        "<a href=\"https://colab.research.google.com/github/Harshithgunda/Harshith/blob/main/SE_Task2.ipynb\" target=\"_parent\"><img src=\"https://colab.research.google.com/assets/colab-badge.svg\" alt=\"Open In Colab\"/></a>"
      ]
    },
    {
      "cell_type": "code",
      "execution_count": 1,
      "metadata": {
        "id": "GVmQh0NsOGmQ"
      },
      "outputs": [],
      "source": [
        "def Temperature_modeling(a,b,c,time):\n",
        "  temperature = a*time**2 + b*time + c\n",
        "  return temperature\n"
      ]
    },
    {
      "cell_type": "code",
      "source": [
        "# I) Hardcoded Variable.\n",
        "a,b,c=0.1,2,10\n",
        "time = 4\n",
        "# Display Results\n",
        "print(\"Hard-coded variables for weather modeling\")\n",
        "print(\"Temeprature for hardcoded coefficients at time\",time,\"hours : \",Temperature_modeling(a,b,c,time))"
      ],
      "metadata": {
        "colab": {
          "base_uri": "https://localhost:8080/"
        },
        "id": "7P7zNg3uP6Qt",
        "outputId": "740693fc-bebb-46f3-b766-00f3bac16b42"
      },
      "execution_count": 3,
      "outputs": [
        {
          "output_type": "stream",
          "name": "stdout",
          "text": [
            "Hard-coded variables for weather modeling\n",
            "Temeprature for hardcoded coefficients at time 4 hours :  19.6\n"
          ]
        }
      ]
    },
    {
      "cell_type": "code",
      "source": [
        "# II) Accepting Variables from keyboard input.\n",
        "a = float(input(\"Enter the value of a: \"))\n",
        "b = float(input(\"Enter the value of b: \"))\n",
        "c = float(input(\"Enter the value of c: \"))\n",
        "time = float(input(\"Enter the value of time: \"))\n",
        "# variables reads from keyboard.\n",
        "print(\"Hard-coded variables for weather modeling\")\n",
        "print(\"Temeprature for hardcoded coefficients at time\",time,\"hours : \",Temperature_modeling(a,b,c,time))\n"
      ],
      "metadata": {
        "colab": {
          "base_uri": "https://localhost:8080/"
        },
        "id": "f9wU8dubQadc",
        "outputId": "1b60484b-45de-45ae-8806-cd88e7c50f89"
      },
      "execution_count": 5,
      "outputs": [
        {
          "output_type": "stream",
          "name": "stdout",
          "text": [
            "Enter the value of a: 0.1\n",
            "Enter the value of b: 2\n",
            "Enter the value of c: 10\n",
            "Enter the value of time: 7\n",
            "Hard-coded variables for weather modeling\n",
            "Temeprature for hardcoded coefficients at time 7.0 hours :  28.9\n"
          ]
        }
      ]
    },
    {
      "cell_type": "code",
      "source": [
        "#III) Reading variables from file.\n",
        "def read_from_file(filename):\n",
        "    with open(filename, 'r') as file:\n",
        "        lines = file.readlines()\n",
        "    coefficients = [tuple(map(float,line.strip().split(',')))for line in lines]\n",
        "    return coefficients"
      ],
      "metadata": {
        "id": "pbvzjBMWSYad"
      },
      "execution_count": 6,
      "outputs": []
    },
    {
      "cell_type": "code",
      "source": [
        "# IV) Processing a single set of inputs.\n",
        "coefficients = read_from_file('input.txt')\n",
        "a,b,c,time= coefficients[0]\n",
        "temperature = Temperature_modeling(a,b,c,time)\n",
        "print(\"read from a file for weather modeling\")\n",
        "print(\"Temeprature from keyboard coefficients at time\",time,\"hours : \",Temperature_modeling(a,b,c,time))"
      ],
      "metadata": {
        "colab": {
          "base_uri": "https://localhost:8080/"
        },
        "id": "QmkfSZl4Tfj2",
        "outputId": "a47022e1-8f12-4c21-f4fa-09598bd0af49"
      },
      "execution_count": 7,
      "outputs": [
        {
          "output_type": "stream",
          "name": "stdout",
          "text": [
            "read from a file for weather modeling\n",
            "Temeprature from keyboard coefficients at time 7.0 hours :  28.9\n"
          ]
        }
      ]
    },
    {
      "cell_type": "code",
      "source": [
        "# V) processing multiple set of inputs.\n",
        "for idx,(a,b,c,time) in enumerate(coefficients):\n",
        "  temperature = Temperature_modeling(a,b,c,time)\n",
        "  print(\"Temeprature from keyboard coefficients at time\",time,\"hours : \",Temperature_modeling(a,b,c,time))"
      ],
      "metadata": {
        "colab": {
          "base_uri": "https://localhost:8080/"
        },
        "id": "qJAm2g9HVLo-",
        "outputId": "578c25b6-ca48-4789-e9e0-7e29c7af1334"
      },
      "execution_count": 8,
      "outputs": [
        {
          "output_type": "stream",
          "name": "stdout",
          "text": [
            "Temeprature from keyboard coefficients at time 7.0 hours :  28.9\n"
          ]
        }
      ]
    }
  ]
}